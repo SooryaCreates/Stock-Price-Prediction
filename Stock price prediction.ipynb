{
 "cells": [
  {
   "cell_type": "code",
   "execution_count": null,
   "metadata": {},
   "outputs": [],
   "source": [
    "#Description: This programme uses LSTM \n",
    "#Use LSTM to predict closing stock price of a corporation (Apple Inc.) using the past 60 day stock price"
   ]
  },
  {
   "cell_type": "code",
   "execution_count": 53,
   "metadata": {},
   "outputs": [],
   "source": [
    "#Import Libraries\n",
    "\n",
    "import math\n",
    "import pandas_datareader as web\n",
    "import numpy as np\n",
    "import pandas as pd\n",
    "from sklearn.preprocessing import MinMaxScaler\n",
    "from keras.models import Sequential\n",
    "from keras.layers import Dense, LSTM\n",
    "import matplotlib.pyplot as plt\n",
    "plt.style.use('fivethirtyeight')"
   ]
  },
  {
   "cell_type": "code",
   "execution_count": 54,
   "metadata": {},
   "outputs": [
    {
     "data": {
      "text/html": [
       "<div>\n",
       "<style scoped>\n",
       "    .dataframe tbody tr th:only-of-type {\n",
       "        vertical-align: middle;\n",
       "    }\n",
       "\n",
       "    .dataframe tbody tr th {\n",
       "        vertical-align: top;\n",
       "    }\n",
       "\n",
       "    .dataframe thead th {\n",
       "        text-align: right;\n",
       "    }\n",
       "</style>\n",
       "<table border=\"1\" class=\"dataframe\">\n",
       "  <thead>\n",
       "    <tr style=\"text-align: right;\">\n",
       "      <th></th>\n",
       "      <th>High</th>\n",
       "      <th>Low</th>\n",
       "      <th>Open</th>\n",
       "      <th>Close</th>\n",
       "      <th>Volume</th>\n",
       "      <th>Adj Close</th>\n",
       "    </tr>\n",
       "    <tr>\n",
       "      <th>Date</th>\n",
       "      <th></th>\n",
       "      <th></th>\n",
       "      <th></th>\n",
       "      <th></th>\n",
       "      <th></th>\n",
       "      <th></th>\n",
       "    </tr>\n",
       "  </thead>\n",
       "  <tbody>\n",
       "    <tr>\n",
       "      <th>2012-12-31</th>\n",
       "      <td>26.990000</td>\n",
       "      <td>26.110001</td>\n",
       "      <td>26.200001</td>\n",
       "      <td>26.620001</td>\n",
       "      <td>60374500</td>\n",
       "      <td>26.620001</td>\n",
       "    </tr>\n",
       "    <tr>\n",
       "      <th>2013-01-02</th>\n",
       "      <td>28.180000</td>\n",
       "      <td>27.420000</td>\n",
       "      <td>27.440001</td>\n",
       "      <td>28.000000</td>\n",
       "      <td>69846400</td>\n",
       "      <td>28.000000</td>\n",
       "    </tr>\n",
       "    <tr>\n",
       "      <th>2013-01-03</th>\n",
       "      <td>28.469999</td>\n",
       "      <td>27.590000</td>\n",
       "      <td>27.879999</td>\n",
       "      <td>27.770000</td>\n",
       "      <td>63140600</td>\n",
       "      <td>27.770000</td>\n",
       "    </tr>\n",
       "    <tr>\n",
       "      <th>2013-01-04</th>\n",
       "      <td>28.930000</td>\n",
       "      <td>27.830000</td>\n",
       "      <td>28.010000</td>\n",
       "      <td>28.760000</td>\n",
       "      <td>72715400</td>\n",
       "      <td>28.760000</td>\n",
       "    </tr>\n",
       "    <tr>\n",
       "      <th>2013-01-07</th>\n",
       "      <td>29.790001</td>\n",
       "      <td>28.650000</td>\n",
       "      <td>28.690001</td>\n",
       "      <td>29.420000</td>\n",
       "      <td>83781800</td>\n",
       "      <td>29.420000</td>\n",
       "    </tr>\n",
       "    <tr>\n",
       "      <th>...</th>\n",
       "      <td>...</td>\n",
       "      <td>...</td>\n",
       "      <td>...</td>\n",
       "      <td>...</td>\n",
       "      <td>...</td>\n",
       "      <td>...</td>\n",
       "    </tr>\n",
       "    <tr>\n",
       "      <th>2020-12-08</th>\n",
       "      <td>286.429993</td>\n",
       "      <td>281.549988</td>\n",
       "      <td>286.010010</td>\n",
       "      <td>283.399994</td>\n",
       "      <td>10747700</td>\n",
       "      <td>283.399994</td>\n",
       "    </tr>\n",
       "    <tr>\n",
       "      <th>2020-12-09</th>\n",
       "      <td>287.630005</td>\n",
       "      <td>271.750000</td>\n",
       "      <td>283.660004</td>\n",
       "      <td>277.920013</td>\n",
       "      <td>25189700</td>\n",
       "      <td>277.920013</td>\n",
       "    </tr>\n",
       "    <tr>\n",
       "      <th>2020-12-10</th>\n",
       "      <td>278.730011</td>\n",
       "      <td>271.859985</td>\n",
       "      <td>275.540009</td>\n",
       "      <td>277.119995</td>\n",
       "      <td>20065100</td>\n",
       "      <td>277.119995</td>\n",
       "    </tr>\n",
       "    <tr>\n",
       "      <th>2020-12-11</th>\n",
       "      <td>276.480011</td>\n",
       "      <td>270.250000</td>\n",
       "      <td>274.529999</td>\n",
       "      <td>273.549988</td>\n",
       "      <td>14391400</td>\n",
       "      <td>273.549988</td>\n",
       "    </tr>\n",
       "    <tr>\n",
       "      <th>2020-12-14</th>\n",
       "      <td>277.220001</td>\n",
       "      <td>271.559998</td>\n",
       "      <td>273.369995</td>\n",
       "      <td>274.190002</td>\n",
       "      <td>16376900</td>\n",
       "      <td>274.190002</td>\n",
       "    </tr>\n",
       "  </tbody>\n",
       "</table>\n",
       "<p>2004 rows × 6 columns</p>\n",
       "</div>"
      ],
      "text/plain": [
       "                  High         Low        Open       Close    Volume  \\\n",
       "Date                                                                   \n",
       "2012-12-31   26.990000   26.110001   26.200001   26.620001  60374500   \n",
       "2013-01-02   28.180000   27.420000   27.440001   28.000000  69846400   \n",
       "2013-01-03   28.469999   27.590000   27.879999   27.770000  63140600   \n",
       "2013-01-04   28.930000   27.830000   28.010000   28.760000  72715400   \n",
       "2013-01-07   29.790001   28.650000   28.690001   29.420000  83781800   \n",
       "...                ...         ...         ...         ...       ...   \n",
       "2020-12-08  286.429993  281.549988  286.010010  283.399994  10747700   \n",
       "2020-12-09  287.630005  271.750000  283.660004  277.920013  25189700   \n",
       "2020-12-10  278.730011  271.859985  275.540009  277.119995  20065100   \n",
       "2020-12-11  276.480011  270.250000  274.529999  273.549988  14391400   \n",
       "2020-12-14  277.220001  271.559998  273.369995  274.190002  16376900   \n",
       "\n",
       "             Adj Close  \n",
       "Date                    \n",
       "2012-12-31   26.620001  \n",
       "2013-01-02   28.000000  \n",
       "2013-01-03   27.770000  \n",
       "2013-01-04   28.760000  \n",
       "2013-01-07   29.420000  \n",
       "...                ...  \n",
       "2020-12-08  283.399994  \n",
       "2020-12-09  277.920013  \n",
       "2020-12-10  277.119995  \n",
       "2020-12-11  273.549988  \n",
       "2020-12-14  274.190002  \n",
       "\n",
       "[2004 rows x 6 columns]"
      ]
     },
     "execution_count": 54,
     "metadata": {},
     "output_type": "execute_result"
    }
   ],
   "source": [
    "#Get the stock quote\n",
    "\n",
    "df = web.DataReader('FB', data_source='yahoo', start='2013-01-01', end='2020-12-14')\n",
    "\n",
    "#Show the data\n",
    "df"
   ]
  },
  {
   "cell_type": "code",
   "execution_count": 55,
   "metadata": {},
   "outputs": [
    {
     "data": {
      "text/plain": [
       "(2004, 6)"
      ]
     },
     "execution_count": 55,
     "metadata": {},
     "output_type": "execute_result"
    }
   ],
   "source": [
    "#Get the number of rows and columns in the data set\n",
    "\n",
    "df.shape"
   ]
  },
  {
   "cell_type": "code",
   "execution_count": 56,
   "metadata": {},
   "outputs": [
    {
     "data": {
      "image/png": "[encoded data removed]",
      "text/plain": [
       "<Figure size 1152x576 with 1 Axes>"
      ]
     },
     "metadata": {},
     "output_type": "display_data"
    }
   ],
   "source": [
    "#Visualise the closing price history\n",
    "plt.figure(figsize = (16,8))\n",
    "plt.title('Close price history')\n",
    "plt.plot(df['Close'])\n",
    "plt.xlabel('Date', fontsize = 18)\n",
    "plt.ylabel('Close Price USD ($)', fontsize = 18)\n",
    "plt.show()"
   ]
  },
  {
   "cell_type": "code",
   "execution_count": 57,
   "metadata": {},
   "outputs": [
    {
     "data": {
      "text/plain": [
       "1604"
      ]
     },
     "execution_count": 57,
     "metadata": {},
     "output_type": "execute_result"
    }
   ],
   "source": [
    "#Create a new dataframe with only the 'Close' column\n",
    "\n",
    "data = df.filter(['Close'])\n",
    "\n",
    "#Convert the dataframe to a numpy array\n",
    "\n",
    "dataset = data.values\n",
    "\n",
    "#Get the number of rows to train the LSTM model on\n",
    "\n",
    "training_data_len = math.ceil(len(dataset)*0.8)\n",
    "\n",
    "training_data_len\n"
   ]
  },
  {
   "cell_type": "code",
   "execution_count": 58,
   "metadata": {},
   "outputs": [
    {
     "data": {
      "text/plain": [
       "array([[0.01323797],\n",
       "       [0.01814882],\n",
       "       [0.01733035],\n",
       "       ...,\n",
       "       [0.90466529],\n",
       "       [0.89196109],\n",
       "       [0.89423864]])"
      ]
     },
     "execution_count": 58,
     "metadata": {},
     "output_type": "execute_result"
    }
   ],
   "source": [
    "#Scale the data\n",
    "\n",
    "scaler = MinMaxScaler(feature_range = (0,1))\n",
    "\n",
    "scaled_data = scaler.fit_transform(dataset)\n",
    "\n",
    "scaled_data"
   ]
  },
  {
   "cell_type": "code",
   "execution_count": 59,
   "metadata": {},
   "outputs": [
    {
     "name": "stdout",
     "output_type": "stream",
     "text": [
      "[array([0.01323797, 0.01814882, 0.01733035, 0.02085335, 0.02320202,\n",
      "       0.02192093, 0.02736558, 0.02989217, 0.03138678, 0.02864667,\n",
      "       0.02562187, 0.02473222, 0.02576421, 0.02405608, 0.02786378,\n",
      "       0.02818405, 0.02910929, 0.03074624, 0.03405573, 0.0280773 ,\n",
      "       0.02967866, 0.02875342, 0.02430518, 0.01854027, 0.02042632,\n",
      "       0.02188534, 0.0204619 , 0.02010604, 0.01907406, 0.01590691,\n",
      "       0.01782855, 0.01992812, 0.01928757, 0.02145831, 0.01978577,\n",
      "       0.01558664, 0.01505284, 0.01555105, 0.01597808, 0.01412762,\n",
      "       0.01547988, 0.01736593, 0.01715241, 0.0164407 , 0.0161916 ,\n",
      "       0.0202128 , 0.01800647, 0.01864702, 0.01754386, 0.01487492,\n",
      "       0.01473258, 0.01334472, 0.01277535, 0.01298886, 0.01053344,\n",
      "       0.0101064 , 0.01007082, 0.00793566, 0.00822035, 0.01135191])]\n",
      "[0.009537028100822229]\n",
      "\n",
      "[array([0.01323797, 0.01814882, 0.01733035, 0.02085335, 0.02320202,\n",
      "       0.02192093, 0.02736558, 0.02989217, 0.03138678, 0.02864667,\n",
      "       0.02562187, 0.02473222, 0.02576421, 0.02405608, 0.02786378,\n",
      "       0.02818405, 0.02910929, 0.03074624, 0.03405573, 0.0280773 ,\n",
      "       0.02967866, 0.02875342, 0.02430518, 0.01854027, 0.02042632,\n",
      "       0.02188534, 0.0204619 , 0.02010604, 0.01907406, 0.01590691,\n",
      "       0.01782855, 0.01992812, 0.01928757, 0.02145831, 0.01978577,\n",
      "       0.01558664, 0.01505284, 0.01555105, 0.01597808, 0.01412762,\n",
      "       0.01547988, 0.01736593, 0.01715241, 0.0164407 , 0.0161916 ,\n",
      "       0.0202128 , 0.01800647, 0.01864702, 0.01754386, 0.01487492,\n",
      "       0.01473258, 0.01334472, 0.01277535, 0.01298886, 0.01053344,\n",
      "       0.0101064 , 0.01007082, 0.00793566, 0.00822035, 0.01135191]), array([0.01814882, 0.01733035, 0.02085335, 0.02320202, 0.02192093,\n",
      "       0.02736558, 0.02989217, 0.03138678, 0.02864667, 0.02562187,\n",
      "       0.02473222, 0.02576421, 0.02405608, 0.02786378, 0.02818405,\n",
      "       0.02910929, 0.03074624, 0.03405573, 0.0280773 , 0.02967866,\n",
      "       0.02875342, 0.02430518, 0.01854027, 0.02042632, 0.02188534,\n",
      "       0.0204619 , 0.02010604, 0.01907406, 0.01590691, 0.01782855,\n",
      "       0.01992812, 0.01928757, 0.02145831, 0.01978577, 0.01558664,\n",
      "       0.01505284, 0.01555105, 0.01597808, 0.01412762, 0.01547988,\n",
      "       0.01736593, 0.01715241, 0.0164407 , 0.0161916 , 0.0202128 ,\n",
      "       0.01800647, 0.01864702, 0.01754386, 0.01487492, 0.01473258,\n",
      "       0.01334472, 0.01277535, 0.01298886, 0.01053344, 0.0101064 ,\n",
      "       0.01007082, 0.00793566, 0.00822035, 0.01135191, 0.00953703])]\n",
      "[0.009537028100822229, 0.009359101207327039]\n",
      "\n"
     ]
    }
   ],
   "source": [
    "#Create the training data set\n",
    "\n",
    "#Create the scaled training data set\n",
    "\n",
    "train_data = scaled_data[0:training_data_len, :]\n",
    "\n",
    "#Split the data into x_train and y_train data sets\n",
    "\n",
    "x_train = []\n",
    "y_train = []\n",
    "\n",
    "for i in range(60, len(train_data)):\n",
    "    x_train.append(train_data[i-60:i,0])\n",
    "    y_train.append(train_data[i,0])\n",
    "    if i<= 61:\n",
    "        print(x_train)\n",
    "        print(y_train)\n",
    "        print()"
   ]
  },
  {
   "cell_type": "code",
   "execution_count": 60,
   "metadata": {},
   "outputs": [],
   "source": [
    "#Convert the x_train and y_train to numpy arrays\n",
    "x_train, y_train = np.array(x_train), np.array(y_train)"
   ]
  },
  {
   "cell_type": "code",
   "execution_count": 61,
   "metadata": {},
   "outputs": [
    {
     "data": {
      "text/plain": [
       "(1544, 60, 1)"
      ]
     },
     "execution_count": 61,
     "metadata": {},
     "output_type": "execute_result"
    }
   ],
   "source": [
    "#Reshape the data\n",
    "x_train = np.reshape(x_train, (x_train.shape[0], x_train.shape[1], 1))\n",
    "\n",
    "x_train.shape"
   ]
  },
  {
   "cell_type": "code",
   "execution_count": 62,
   "metadata": {},
   "outputs": [],
   "source": [
    "#Build the LSTM model\n",
    "\n",
    "model = Sequential()\n",
    "model.add(LSTM(50, return_sequences = True, input_shape=(x_train.shape[1],1)))\n",
    "model.add(LSTM(50, return_sequences = False))\n",
    "model.add(Dense(25))\n",
    "model.add(Dense(1))"
   ]
  },
  {
   "cell_type": "code",
   "execution_count": 63,
   "metadata": {},
   "outputs": [],
   "source": [
    "#Compile the model\n",
    "\n",
    "model.compile(optimizer = 'adam', loss = 'mean_squared_error')"
   ]
  },
  {
   "cell_type": "code",
   "execution_count": 64,
   "metadata": {},
   "outputs": [
    {
     "name": "stdout",
     "output_type": "stream",
     "text": [
      "1544/1544 [==============================] - 112s 69ms/step - loss: 0.0016\n"
     ]
    },
    {
     "data": {
      "text/plain": [
       "<tensorflow.python.keras.callbacks.History at 0x226c11676c8>"
      ]
     },
     "execution_count": 64,
     "metadata": {},
     "output_type": "execute_result"
    }
   ],
   "source": [
    "#Train the model\n",
    "\n",
    "model.fit(x_train, y_train, batch_size = 1,  epochs=1)"
   ]
  },
  {
   "cell_type": "code",
   "execution_count": 65,
   "metadata": {},
   "outputs": [],
   "source": [
    "#Create the testing data set\n",
    "\n",
    "#Create a new array containing scaled values\n",
    "\n",
    "test_data = scaled_data[training_data_len-60:, :]\n",
    "\n",
    "#Create the datasets x_test and y_test\n",
    "\n",
    "x_test = []\n",
    "y_test = dataset[training_data_len:,:]\n",
    "\n",
    "for i in range(60, len(test_data)):\n",
    "    x_test.append(test_data[i-60:i, 0])"
   ]
  },
  {
   "cell_type": "code",
   "execution_count": 66,
   "metadata": {},
   "outputs": [],
   "source": [
    "#Convert the data to a numpy array\n",
    "\n",
    "x_test = np.array(x_test)"
   ]
  },
  {
   "cell_type": "code",
   "execution_count": 67,
   "metadata": {},
   "outputs": [],
   "source": [
    "#Reshape the data to 3 dimensional since that is what LSTM requires\n",
    "\n",
    "x_test = np.reshape(x_test, (x_test.shape[0], x_test.shape[1], 1))"
   ]
  },
  {
   "cell_type": "code",
   "execution_count": 68,
   "metadata": {},
   "outputs": [],
   "source": [
    "#Get the model's predicted price values\n",
    "\n",
    "predictions = model.predict(x_test)\n",
    "predictions = scaler.inverse_transform(predictions)"
   ]
  },
  {
   "cell_type": "code",
   "execution_count": 74,
   "metadata": {},
   "outputs": [
    {
     "data": {
      "text/plain": [
       "9.417952640655535"
      ]
     },
     "execution_count": 74,
     "metadata": {},
     "output_type": "execute_result"
    }
   ],
   "source": [
    "#Get the root mean squared error (RMSE)\n",
    "\n",
    "rmse=np.sqrt(np.mean(((predictions- y_test)**2)))\n",
    "rmse"
   ]
  },
  {
   "cell_type": "code",
   "execution_count": 75,
   "metadata": {},
   "outputs": [
    {
     "name": "stderr",
     "output_type": "stream",
     "text": [
      "C:\\Users\\Soorya\\anaconda3\\lib\\site-packages\\ipykernel_launcher.py:5: SettingWithCopyWarning: \n",
      "A value is trying to be set on a copy of a slice from a DataFrame.\n",
      "Try using .loc[row_indexer,col_indexer] = value instead\n",
      "\n",
      "See the caveats in the documentation: https://pandas.pydata.org/pandas-docs/stable/user_guide/indexing.html#returning-a-view-versus-a-copy\n",
      "  \"\"\"\n"
     ]
    },
    {
     "data": {
      "image/png": "[encoded data removed]",
      "text/plain": [
       "<Figure size 1152x576 with 1 Axes>"
      ]
     },
     "metadata": {},
     "output_type": "display_data"
    }
   ],
   "source": [
    "#Plot the data\n",
    "\n",
    "train = data[:training_data_len]\n",
    "valid = data[training_data_len:]\n",
    "valid['Predictions'] = predictions\n",
    "\n",
    "#Visualise\n",
    "\n",
    "plt.figure(figsize = (16,8))\n",
    "plt.title('Model')\n",
    "plt.xlabel('Date', fontsize = 18)\n",
    "plt.ylabel('Close price USD ($)', fontsize = 18)\n",
    "plt.plot(train['Close'])\n",
    "plt.plot(valid[['Close','Predictions']])\n",
    "plt.legend(['Train','Val', 'Predictions'], loc = 'lower right')\n",
    "plt.show()"
   ]
  },
  {
   "cell_type": "code",
   "execution_count": 76,
   "metadata": {},
   "outputs": [
    {
     "data": {
      "text/html": [
       "<div>\n",
       "<style scoped>\n",
       "    .dataframe tbody tr th:only-of-type {\n",
       "        vertical-align: middle;\n",
       "    }\n",
       "\n",
       "    .dataframe tbody tr th {\n",
       "        vertical-align: top;\n",
       "    }\n",
       "\n",
       "    .dataframe thead th {\n",
       "        text-align: right;\n",
       "    }\n",
       "</style>\n",
       "<table border=\"1\" class=\"dataframe\">\n",
       "  <thead>\n",
       "    <tr style=\"text-align: right;\">\n",
       "      <th></th>\n",
       "      <th>Close</th>\n",
       "      <th>Predictions</th>\n",
       "    </tr>\n",
       "    <tr>\n",
       "      <th>Date</th>\n",
       "      <th></th>\n",
       "      <th></th>\n",
       "    </tr>\n",
       "  </thead>\n",
       "  <tbody>\n",
       "    <tr>\n",
       "      <th>2019-05-16</th>\n",
       "      <td>186.990005</td>\n",
       "      <td>192.571487</td>\n",
       "    </tr>\n",
       "    <tr>\n",
       "      <th>2019-05-17</th>\n",
       "      <td>185.300003</td>\n",
       "      <td>192.192780</td>\n",
       "    </tr>\n",
       "    <tr>\n",
       "      <th>2019-05-20</th>\n",
       "      <td>182.720001</td>\n",
       "      <td>191.850189</td>\n",
       "    </tr>\n",
       "    <tr>\n",
       "      <th>2019-05-21</th>\n",
       "      <td>184.820007</td>\n",
       "      <td>191.326920</td>\n",
       "    </tr>\n",
       "    <tr>\n",
       "      <th>2019-05-22</th>\n",
       "      <td>185.320007</td>\n",
       "      <td>190.984329</td>\n",
       "    </tr>\n",
       "    <tr>\n",
       "      <th>...</th>\n",
       "      <td>...</td>\n",
       "      <td>...</td>\n",
       "    </tr>\n",
       "    <tr>\n",
       "      <th>2020-12-08</th>\n",
       "      <td>283.399994</td>\n",
       "      <td>276.376434</td>\n",
       "    </tr>\n",
       "    <tr>\n",
       "      <th>2020-12-09</th>\n",
       "      <td>277.920013</td>\n",
       "      <td>276.902802</td>\n",
       "    </tr>\n",
       "    <tr>\n",
       "      <th>2020-12-10</th>\n",
       "      <td>277.119995</td>\n",
       "      <td>276.774933</td>\n",
       "    </tr>\n",
       "    <tr>\n",
       "      <th>2020-12-11</th>\n",
       "      <td>273.549988</td>\n",
       "      <td>276.356262</td>\n",
       "    </tr>\n",
       "    <tr>\n",
       "      <th>2020-12-14</th>\n",
       "      <td>274.190002</td>\n",
       "      <td>275.509247</td>\n",
       "    </tr>\n",
       "  </tbody>\n",
       "</table>\n",
       "<p>400 rows × 2 columns</p>\n",
       "</div>"
      ],
      "text/plain": [
       "                 Close  Predictions\n",
       "Date                               \n",
       "2019-05-16  186.990005   192.571487\n",
       "2019-05-17  185.300003   192.192780\n",
       "2019-05-20  182.720001   191.850189\n",
       "2019-05-21  184.820007   191.326920\n",
       "2019-05-22  185.320007   190.984329\n",
       "...                ...          ...\n",
       "2020-12-08  283.399994   276.376434\n",
       "2020-12-09  277.920013   276.902802\n",
       "2020-12-10  277.119995   276.774933\n",
       "2020-12-11  273.549988   276.356262\n",
       "2020-12-14  274.190002   275.509247\n",
       "\n",
       "[400 rows x 2 columns]"
      ]
     },
     "execution_count": 76,
     "metadata": {},
     "output_type": "execute_result"
    }
   ],
   "source": [
    "#Show the valid and predicted prices\n",
    "\n",
    "valid"
   ]
  },
  {
   "cell_type": "code",
   "execution_count": 88,
   "metadata": {},
   "outputs": [
    {
     "name": "stdout",
     "output_type": "stream",
     "text": [
      "[[274.02115]]\n"
     ]
    }
   ],
   "source": [
    "#Get the quote\n",
    "fb_quote = web.DataReader('FB', data_source = 'yahoo', start = '2013-01-01', end='2020-12-15')\n",
    "\n",
    "#Create a new dataframe\n",
    "\n",
    "new_df = fb_quote.filter(['Close'])\n",
    "\n",
    "#Get the last 60 day closing price values and convert the dataframe to an array\n",
    "\n",
    "last_60_days = new_df[-60:].values\n",
    "\n",
    "#Scale the data to be values between 0 and 1\n",
    "\n",
    "last_60_days_scaled = scaler.transform(last_60_days)\n",
    "\n",
    "#Create an empty list\n",
    "\n",
    "X_test = []\n",
    "\n",
    "#Append the past 60 days\n",
    "\n",
    "X_test.append(last_60_days_scaled)\n",
    "\n",
    "#Convert the X_test data set to a numpy array\n",
    "\n",
    "X_test = np.array(X_test)\n",
    "\n",
    "#Reshape the data\n",
    "X_test = np.reshape(X_test, (X_test.shape[0], X_test.shape[1], 1))\n",
    "\n",
    "#Get the predicted scaled price\n",
    "\n",
    "pred_price = model.predict(X_test)\n",
    "\n",
    "#Undo the scaling\n",
    "\n",
    "pred_price = scaler.inverse_transform(pred_price)\n",
    "\n",
    "print(pred_price)"
   ]
  },
  {
   "cell_type": "code",
   "execution_count": 78,
   "metadata": {},
   "outputs": [
    {
     "name": "stdout",
     "output_type": "stream",
     "text": [
      "Date\n",
      "2020-12-14    274.190002\n",
      "2020-12-15    275.549988\n",
      "Name: Close, dtype: float64\n"
     ]
    }
   ],
   "source": [
    "fb_quote2 = web.DataReader('FB', data_source = 'yahoo', start = '2020-12-15', end='2020-12-15')\n",
    "\n",
    "print(fb_quote2['Close'])"
   ]
  },
  {
   "cell_type": "code",
   "execution_count": null,
   "metadata": {},
   "outputs": [],
   "source": []
  },
  {
   "cell_type": "code",
   "execution_count": null,
   "metadata": {},
   "outputs": [],
   "source": []
  },
  {
   "cell_type": "code",
   "execution_count": null,
   "metadata": {},
   "outputs": [],
   "source": []
  },
  {
   "cell_type": "code",
   "execution_count": null,
   "metadata": {},
   "outputs": [],
   "source": []
  },
  {
   "cell_type": "code",
   "execution_count": null,
   "metadata": {},
   "outputs": [],
   "source": []
  }
 ],
 "metadata": {
  "kernelspec": {
   "display_name": "Python 3",
   "language": "python",
   "name": "python3"
  },
  "language_info": {
   "codemirror_mode": {
    "name": "ipython",
    "version": 3
   },
   "file_extension": ".py",
   "mimetype": "text/x-python",
   "name": "python",
   "nbconvert_exporter": "python",
   "pygments_lexer": "ipython3",
   "version": "3.7.6"
  }
 },
 "nbformat": 4,
 "nbformat_minor": 4
}
